{
  "nbformat": 4,
  "nbformat_minor": 0,
  "metadata": {
    "colab": {
      "provenance": []
    },
    "kernelspec": {
      "name": "python3",
      "display_name": "Python 3"
    },
    "language_info": {
      "name": "python"
    }
  },
  "cells": [
    {
      "cell_type": "markdown",
      "source": [
        "# Download the data"
      ],
      "metadata": {
        "id": "zFYjlVuufnxm"
      }
    },
    {
      "cell_type": "code",
      "execution_count": 5,
      "metadata": {
        "colab": {
          "base_uri": "https://localhost:8080/"
        },
        "id": "Md1dU4s6fPEG",
        "outputId": "9ff1a084-18d9-4455-b7d2-f92c2e2e056a"
      },
      "outputs": [
        {
          "output_type": "stream",
          "name": "stdout",
          "text": [
            "--2023-11-22 00:55:51--  https://course.ccs.neu.edu/cs6220/fall2023/homework-7/data/titanic/titanic.test.csv\n",
            "Resolving course.ccs.neu.edu (course.ccs.neu.edu)... 129.10.117.35\n",
            "Connecting to course.ccs.neu.edu (course.ccs.neu.edu)|129.10.117.35|:443... connected.\n",
            "HTTP request sent, awaiting response... 200 OK\n",
            "Length: 35145 (34K) [text/csv]\n",
            "Saving to: ‘titanic.test.csv’\n",
            "\n",
            "titanic.test.csv    100%[===================>]  34.32K   187KB/s    in 0.2s    \n",
            "\n",
            "2023-11-22 00:55:52 (187 KB/s) - ‘titanic.test.csv’ saved [35145/35145]\n",
            "\n",
            "--2023-11-22 00:55:52--  https://course.ccs.neu.edu/cs6220/fall2023/homework-7/data/titanic/titanic.train.csv\n",
            "Resolving course.ccs.neu.edu (course.ccs.neu.edu)... 129.10.117.35\n",
            "Connecting to course.ccs.neu.edu (course.ccs.neu.edu)|129.10.117.35|:443... connected.\n",
            "HTTP request sent, awaiting response... 200 OK\n",
            "Length: 73203 (71K) [text/csv]\n",
            "Saving to: ‘titanic.train.csv’\n",
            "\n",
            "titanic.train.csv   100%[===================>]  71.49K   197KB/s    in 0.4s    \n",
            "\n",
            "2023-11-22 00:55:53 (197 KB/s) - ‘titanic.train.csv’ saved [73203/73203]\n",
            "\n"
          ]
        }
      ],
      "source": [
        "!rm -rf *\n",
        "!wget -nc https://course.ccs.neu.edu/cs6220/fall2023/homework-7/data/titanic/titanic.test.csv\n",
        "!wget -nc https://course.ccs.neu.edu/cs6220/fall2023/homework-7/data/titanic/titanic.train.csv"
      ]
    },
    {
      "cell_type": "markdown",
      "source": [
        "# Read CVS files\n",
        "\n"
      ],
      "metadata": {
        "id": "B1-hOQklfq51"
      }
    },
    {
      "cell_type": "code",
      "source": [
        "!ls"
      ],
      "metadata": {
        "colab": {
          "base_uri": "https://localhost:8080/"
        },
        "id": "dc9u4WNlkdcH",
        "outputId": "2e1602b2-0685-40f1-ad21-935a3199a4bf"
      },
      "execution_count": 6,
      "outputs": [
        {
          "output_type": "stream",
          "name": "stdout",
          "text": [
            "titanic.test.csv  titanic.train.csv\n"
          ]
        }
      ]
    },
    {
      "cell_type": "code",
      "source": [
        "import pandas as pd\n",
        "\n",
        "df_test = pd.read_csv(\"titanic.test.csv\")\n",
        "print(\"test data\")\n",
        "df_test\n",
        "\n",
        "df_train = pd.read_csv(\"titanic.train.csv\")\n",
        "print(\"train data\")\n",
        "df_train"
      ],
      "metadata": {
        "colab": {
          "base_uri": "https://localhost:8080/",
          "height": 529
        },
        "id": "oPWDDaQmfqiR",
        "outputId": "52d0db51-894f-480a-f6b9-ab7ed4dde22c"
      },
      "execution_count": 7,
      "outputs": [
        {
          "output_type": "stream",
          "name": "stdout",
          "text": [
            "test data\n",
            "train data\n"
          ]
        },
        {
          "output_type": "execute_result",
          "data": {
            "text/plain": [
              "     pclass  survived                                               name  \\\n",
              "0         3         1                        Sheerlinck, Mr. Jan Baptist   \n",
              "1         2         1                         Quick, Miss. Winifred Vera   \n",
              "2         1         1                  Pears, Mrs. Thomas (Edith Wearne)   \n",
              "3         1         0                       Crosby, Capt. Edward Gifford   \n",
              "4         3         1             Daly, Miss. Margaret Marcella \"Maggie\"   \n",
              "..      ...       ...                                                ...   \n",
              "886       1         0                         Hays, Mr. Charles Melville   \n",
              "887       3         1  Hakkarainen, Mrs. Pekka Pietari (Elin Matilda ...   \n",
              "888       3         0                                      Ling, Mr. Lee   \n",
              "889       3         0                       Saether, Mr. Simon Sivertsen   \n",
              "890       1         0                                Ringhini, Mr. Sante   \n",
              "\n",
              "        sex   age  sibsp  parch              ticket      fare cabin embarked  \\\n",
              "0      male  29.0      0      0              345779    9.5000   NaN        S   \n",
              "1    female   8.0      1      1               26360   26.0000   NaN        S   \n",
              "2    female  22.0      1      0              113776   66.6000    C2        S   \n",
              "3      male  70.0      1      1           WE/P 5735   71.0000   B22        S   \n",
              "4    female  30.0      0      0              382650    6.9500   NaN        Q   \n",
              "..      ...   ...    ...    ...                 ...       ...   ...      ...   \n",
              "886    male  55.0      1      1               12749   93.5000   B69        S   \n",
              "887  female  24.0      1      0    STON/O2. 3101279   15.8500   NaN        S   \n",
              "888    male  28.0      0      0                1601   56.4958   NaN        S   \n",
              "889    male  38.5      0      0  SOTON/O.Q. 3101262    7.2500   NaN        S   \n",
              "890    male  22.0      0      0            PC 17760  135.6333   NaN        C   \n",
              "\n",
              "    boat   body                         home.dest  \n",
              "0     11    NaN                               NaN  \n",
              "1     11    NaN     Plymouth, Devon / Detroit, MI  \n",
              "2      8    NaN                Isleworth, England  \n",
              "3    NaN  269.0                     Milwaukee, WI  \n",
              "4     15    NaN  Co Athlone, Ireland New York, NY  \n",
              "..   ...    ...                               ...  \n",
              "886  NaN  307.0                      Montreal, PQ  \n",
              "887   15    NaN                               NaN  \n",
              "888  NaN    NaN                               NaN  \n",
              "889  NaN   32.0                               NaN  \n",
              "890  NaN  232.0                               NaN  \n",
              "\n",
              "[891 rows x 14 columns]"
            ],
            "text/html": [
              "\n",
              "  <div id=\"df-f4dc1e5f-7513-492f-abdf-142317ce0b9f\" class=\"colab-df-container\">\n",
              "    <div>\n",
              "<style scoped>\n",
              "    .dataframe tbody tr th:only-of-type {\n",
              "        vertical-align: middle;\n",
              "    }\n",
              "\n",
              "    .dataframe tbody tr th {\n",
              "        vertical-align: top;\n",
              "    }\n",
              "\n",
              "    .dataframe thead th {\n",
              "        text-align: right;\n",
              "    }\n",
              "</style>\n",
              "<table border=\"1\" class=\"dataframe\">\n",
              "  <thead>\n",
              "    <tr style=\"text-align: right;\">\n",
              "      <th></th>\n",
              "      <th>pclass</th>\n",
              "      <th>survived</th>\n",
              "      <th>name</th>\n",
              "      <th>sex</th>\n",
              "      <th>age</th>\n",
              "      <th>sibsp</th>\n",
              "      <th>parch</th>\n",
              "      <th>ticket</th>\n",
              "      <th>fare</th>\n",
              "      <th>cabin</th>\n",
              "      <th>embarked</th>\n",
              "      <th>boat</th>\n",
              "      <th>body</th>\n",
              "      <th>home.dest</th>\n",
              "    </tr>\n",
              "  </thead>\n",
              "  <tbody>\n",
              "    <tr>\n",
              "      <th>0</th>\n",
              "      <td>3</td>\n",
              "      <td>1</td>\n",
              "      <td>Sheerlinck, Mr. Jan Baptist</td>\n",
              "      <td>male</td>\n",
              "      <td>29.0</td>\n",
              "      <td>0</td>\n",
              "      <td>0</td>\n",
              "      <td>345779</td>\n",
              "      <td>9.5000</td>\n",
              "      <td>NaN</td>\n",
              "      <td>S</td>\n",
              "      <td>11</td>\n",
              "      <td>NaN</td>\n",
              "      <td>NaN</td>\n",
              "    </tr>\n",
              "    <tr>\n",
              "      <th>1</th>\n",
              "      <td>2</td>\n",
              "      <td>1</td>\n",
              "      <td>Quick, Miss. Winifred Vera</td>\n",
              "      <td>female</td>\n",
              "      <td>8.0</td>\n",
              "      <td>1</td>\n",
              "      <td>1</td>\n",
              "      <td>26360</td>\n",
              "      <td>26.0000</td>\n",
              "      <td>NaN</td>\n",
              "      <td>S</td>\n",
              "      <td>11</td>\n",
              "      <td>NaN</td>\n",
              "      <td>Plymouth, Devon / Detroit, MI</td>\n",
              "    </tr>\n",
              "    <tr>\n",
              "      <th>2</th>\n",
              "      <td>1</td>\n",
              "      <td>1</td>\n",
              "      <td>Pears, Mrs. Thomas (Edith Wearne)</td>\n",
              "      <td>female</td>\n",
              "      <td>22.0</td>\n",
              "      <td>1</td>\n",
              "      <td>0</td>\n",
              "      <td>113776</td>\n",
              "      <td>66.6000</td>\n",
              "      <td>C2</td>\n",
              "      <td>S</td>\n",
              "      <td>8</td>\n",
              "      <td>NaN</td>\n",
              "      <td>Isleworth, England</td>\n",
              "    </tr>\n",
              "    <tr>\n",
              "      <th>3</th>\n",
              "      <td>1</td>\n",
              "      <td>0</td>\n",
              "      <td>Crosby, Capt. Edward Gifford</td>\n",
              "      <td>male</td>\n",
              "      <td>70.0</td>\n",
              "      <td>1</td>\n",
              "      <td>1</td>\n",
              "      <td>WE/P 5735</td>\n",
              "      <td>71.0000</td>\n",
              "      <td>B22</td>\n",
              "      <td>S</td>\n",
              "      <td>NaN</td>\n",
              "      <td>269.0</td>\n",
              "      <td>Milwaukee, WI</td>\n",
              "    </tr>\n",
              "    <tr>\n",
              "      <th>4</th>\n",
              "      <td>3</td>\n",
              "      <td>1</td>\n",
              "      <td>Daly, Miss. Margaret Marcella \"Maggie\"</td>\n",
              "      <td>female</td>\n",
              "      <td>30.0</td>\n",
              "      <td>0</td>\n",
              "      <td>0</td>\n",
              "      <td>382650</td>\n",
              "      <td>6.9500</td>\n",
              "      <td>NaN</td>\n",
              "      <td>Q</td>\n",
              "      <td>15</td>\n",
              "      <td>NaN</td>\n",
              "      <td>Co Athlone, Ireland New York, NY</td>\n",
              "    </tr>\n",
              "    <tr>\n",
              "      <th>...</th>\n",
              "      <td>...</td>\n",
              "      <td>...</td>\n",
              "      <td>...</td>\n",
              "      <td>...</td>\n",
              "      <td>...</td>\n",
              "      <td>...</td>\n",
              "      <td>...</td>\n",
              "      <td>...</td>\n",
              "      <td>...</td>\n",
              "      <td>...</td>\n",
              "      <td>...</td>\n",
              "      <td>...</td>\n",
              "      <td>...</td>\n",
              "      <td>...</td>\n",
              "    </tr>\n",
              "    <tr>\n",
              "      <th>886</th>\n",
              "      <td>1</td>\n",
              "      <td>0</td>\n",
              "      <td>Hays, Mr. Charles Melville</td>\n",
              "      <td>male</td>\n",
              "      <td>55.0</td>\n",
              "      <td>1</td>\n",
              "      <td>1</td>\n",
              "      <td>12749</td>\n",
              "      <td>93.5000</td>\n",
              "      <td>B69</td>\n",
              "      <td>S</td>\n",
              "      <td>NaN</td>\n",
              "      <td>307.0</td>\n",
              "      <td>Montreal, PQ</td>\n",
              "    </tr>\n",
              "    <tr>\n",
              "      <th>887</th>\n",
              "      <td>3</td>\n",
              "      <td>1</td>\n",
              "      <td>Hakkarainen, Mrs. Pekka Pietari (Elin Matilda ...</td>\n",
              "      <td>female</td>\n",
              "      <td>24.0</td>\n",
              "      <td>1</td>\n",
              "      <td>0</td>\n",
              "      <td>STON/O2. 3101279</td>\n",
              "      <td>15.8500</td>\n",
              "      <td>NaN</td>\n",
              "      <td>S</td>\n",
              "      <td>15</td>\n",
              "      <td>NaN</td>\n",
              "      <td>NaN</td>\n",
              "    </tr>\n",
              "    <tr>\n",
              "      <th>888</th>\n",
              "      <td>3</td>\n",
              "      <td>0</td>\n",
              "      <td>Ling, Mr. Lee</td>\n",
              "      <td>male</td>\n",
              "      <td>28.0</td>\n",
              "      <td>0</td>\n",
              "      <td>0</td>\n",
              "      <td>1601</td>\n",
              "      <td>56.4958</td>\n",
              "      <td>NaN</td>\n",
              "      <td>S</td>\n",
              "      <td>NaN</td>\n",
              "      <td>NaN</td>\n",
              "      <td>NaN</td>\n",
              "    </tr>\n",
              "    <tr>\n",
              "      <th>889</th>\n",
              "      <td>3</td>\n",
              "      <td>0</td>\n",
              "      <td>Saether, Mr. Simon Sivertsen</td>\n",
              "      <td>male</td>\n",
              "      <td>38.5</td>\n",
              "      <td>0</td>\n",
              "      <td>0</td>\n",
              "      <td>SOTON/O.Q. 3101262</td>\n",
              "      <td>7.2500</td>\n",
              "      <td>NaN</td>\n",
              "      <td>S</td>\n",
              "      <td>NaN</td>\n",
              "      <td>32.0</td>\n",
              "      <td>NaN</td>\n",
              "    </tr>\n",
              "    <tr>\n",
              "      <th>890</th>\n",
              "      <td>1</td>\n",
              "      <td>0</td>\n",
              "      <td>Ringhini, Mr. Sante</td>\n",
              "      <td>male</td>\n",
              "      <td>22.0</td>\n",
              "      <td>0</td>\n",
              "      <td>0</td>\n",
              "      <td>PC 17760</td>\n",
              "      <td>135.6333</td>\n",
              "      <td>NaN</td>\n",
              "      <td>C</td>\n",
              "      <td>NaN</td>\n",
              "      <td>232.0</td>\n",
              "      <td>NaN</td>\n",
              "    </tr>\n",
              "  </tbody>\n",
              "</table>\n",
              "<p>891 rows × 14 columns</p>\n",
              "</div>\n",
              "    <div class=\"colab-df-buttons\">\n",
              "\n",
              "  <div class=\"colab-df-container\">\n",
              "    <button class=\"colab-df-convert\" onclick=\"convertToInteractive('df-f4dc1e5f-7513-492f-abdf-142317ce0b9f')\"\n",
              "            title=\"Convert this dataframe to an interactive table.\"\n",
              "            style=\"display:none;\">\n",
              "\n",
              "  <svg xmlns=\"http://www.w3.org/2000/svg\" height=\"24px\" viewBox=\"0 -960 960 960\">\n",
              "    <path d=\"M120-120v-720h720v720H120Zm60-500h600v-160H180v160Zm220 220h160v-160H400v160Zm0 220h160v-160H400v160ZM180-400h160v-160H180v160Zm440 0h160v-160H620v160ZM180-180h160v-160H180v160Zm440 0h160v-160H620v160Z\"/>\n",
              "  </svg>\n",
              "    </button>\n",
              "\n",
              "  <style>\n",
              "    .colab-df-container {\n",
              "      display:flex;\n",
              "      gap: 12px;\n",
              "    }\n",
              "\n",
              "    .colab-df-convert {\n",
              "      background-color: #E8F0FE;\n",
              "      border: none;\n",
              "      border-radius: 50%;\n",
              "      cursor: pointer;\n",
              "      display: none;\n",
              "      fill: #1967D2;\n",
              "      height: 32px;\n",
              "      padding: 0 0 0 0;\n",
              "      width: 32px;\n",
              "    }\n",
              "\n",
              "    .colab-df-convert:hover {\n",
              "      background-color: #E2EBFA;\n",
              "      box-shadow: 0px 1px 2px rgba(60, 64, 67, 0.3), 0px 1px 3px 1px rgba(60, 64, 67, 0.15);\n",
              "      fill: #174EA6;\n",
              "    }\n",
              "\n",
              "    .colab-df-buttons div {\n",
              "      margin-bottom: 4px;\n",
              "    }\n",
              "\n",
              "    [theme=dark] .colab-df-convert {\n",
              "      background-color: #3B4455;\n",
              "      fill: #D2E3FC;\n",
              "    }\n",
              "\n",
              "    [theme=dark] .colab-df-convert:hover {\n",
              "      background-color: #434B5C;\n",
              "      box-shadow: 0px 1px 3px 1px rgba(0, 0, 0, 0.15);\n",
              "      filter: drop-shadow(0px 1px 2px rgba(0, 0, 0, 0.3));\n",
              "      fill: #FFFFFF;\n",
              "    }\n",
              "  </style>\n",
              "\n",
              "    <script>\n",
              "      const buttonEl =\n",
              "        document.querySelector('#df-f4dc1e5f-7513-492f-abdf-142317ce0b9f button.colab-df-convert');\n",
              "      buttonEl.style.display =\n",
              "        google.colab.kernel.accessAllowed ? 'block' : 'none';\n",
              "\n",
              "      async function convertToInteractive(key) {\n",
              "        const element = document.querySelector('#df-f4dc1e5f-7513-492f-abdf-142317ce0b9f');\n",
              "        const dataTable =\n",
              "          await google.colab.kernel.invokeFunction('convertToInteractive',\n",
              "                                                    [key], {});\n",
              "        if (!dataTable) return;\n",
              "\n",
              "        const docLinkHtml = 'Like what you see? Visit the ' +\n",
              "          '<a target=\"_blank\" href=https://colab.research.google.com/notebooks/data_table.ipynb>data table notebook</a>'\n",
              "          + ' to learn more about interactive tables.';\n",
              "        element.innerHTML = '';\n",
              "        dataTable['output_type'] = 'display_data';\n",
              "        await google.colab.output.renderOutput(dataTable, element);\n",
              "        const docLink = document.createElement('div');\n",
              "        docLink.innerHTML = docLinkHtml;\n",
              "        element.appendChild(docLink);\n",
              "      }\n",
              "    </script>\n",
              "  </div>\n",
              "\n",
              "\n",
              "<div id=\"df-fb148468-b1ee-41cc-9d21-10dc65252768\">\n",
              "  <button class=\"colab-df-quickchart\" onclick=\"quickchart('df-fb148468-b1ee-41cc-9d21-10dc65252768')\"\n",
              "            title=\"Suggest charts\"\n",
              "            style=\"display:none;\">\n",
              "\n",
              "<svg xmlns=\"http://www.w3.org/2000/svg\" height=\"24px\"viewBox=\"0 0 24 24\"\n",
              "     width=\"24px\">\n",
              "    <g>\n",
              "        <path d=\"M19 3H5c-1.1 0-2 .9-2 2v14c0 1.1.9 2 2 2h14c1.1 0 2-.9 2-2V5c0-1.1-.9-2-2-2zM9 17H7v-7h2v7zm4 0h-2V7h2v10zm4 0h-2v-4h2v4z\"/>\n",
              "    </g>\n",
              "</svg>\n",
              "  </button>\n",
              "\n",
              "<style>\n",
              "  .colab-df-quickchart {\n",
              "      --bg-color: #E8F0FE;\n",
              "      --fill-color: #1967D2;\n",
              "      --hover-bg-color: #E2EBFA;\n",
              "      --hover-fill-color: #174EA6;\n",
              "      --disabled-fill-color: #AAA;\n",
              "      --disabled-bg-color: #DDD;\n",
              "  }\n",
              "\n",
              "  [theme=dark] .colab-df-quickchart {\n",
              "      --bg-color: #3B4455;\n",
              "      --fill-color: #D2E3FC;\n",
              "      --hover-bg-color: #434B5C;\n",
              "      --hover-fill-color: #FFFFFF;\n",
              "      --disabled-bg-color: #3B4455;\n",
              "      --disabled-fill-color: #666;\n",
              "  }\n",
              "\n",
              "  .colab-df-quickchart {\n",
              "    background-color: var(--bg-color);\n",
              "    border: none;\n",
              "    border-radius: 50%;\n",
              "    cursor: pointer;\n",
              "    display: none;\n",
              "    fill: var(--fill-color);\n",
              "    height: 32px;\n",
              "    padding: 0;\n",
              "    width: 32px;\n",
              "  }\n",
              "\n",
              "  .colab-df-quickchart:hover {\n",
              "    background-color: var(--hover-bg-color);\n",
              "    box-shadow: 0 1px 2px rgba(60, 64, 67, 0.3), 0 1px 3px 1px rgba(60, 64, 67, 0.15);\n",
              "    fill: var(--button-hover-fill-color);\n",
              "  }\n",
              "\n",
              "  .colab-df-quickchart-complete:disabled,\n",
              "  .colab-df-quickchart-complete:disabled:hover {\n",
              "    background-color: var(--disabled-bg-color);\n",
              "    fill: var(--disabled-fill-color);\n",
              "    box-shadow: none;\n",
              "  }\n",
              "\n",
              "  .colab-df-spinner {\n",
              "    border: 2px solid var(--fill-color);\n",
              "    border-color: transparent;\n",
              "    border-bottom-color: var(--fill-color);\n",
              "    animation:\n",
              "      spin 1s steps(1) infinite;\n",
              "  }\n",
              "\n",
              "  @keyframes spin {\n",
              "    0% {\n",
              "      border-color: transparent;\n",
              "      border-bottom-color: var(--fill-color);\n",
              "      border-left-color: var(--fill-color);\n",
              "    }\n",
              "    20% {\n",
              "      border-color: transparent;\n",
              "      border-left-color: var(--fill-color);\n",
              "      border-top-color: var(--fill-color);\n",
              "    }\n",
              "    30% {\n",
              "      border-color: transparent;\n",
              "      border-left-color: var(--fill-color);\n",
              "      border-top-color: var(--fill-color);\n",
              "      border-right-color: var(--fill-color);\n",
              "    }\n",
              "    40% {\n",
              "      border-color: transparent;\n",
              "      border-right-color: var(--fill-color);\n",
              "      border-top-color: var(--fill-color);\n",
              "    }\n",
              "    60% {\n",
              "      border-color: transparent;\n",
              "      border-right-color: var(--fill-color);\n",
              "    }\n",
              "    80% {\n",
              "      border-color: transparent;\n",
              "      border-right-color: var(--fill-color);\n",
              "      border-bottom-color: var(--fill-color);\n",
              "    }\n",
              "    90% {\n",
              "      border-color: transparent;\n",
              "      border-bottom-color: var(--fill-color);\n",
              "    }\n",
              "  }\n",
              "</style>\n",
              "\n",
              "  <script>\n",
              "    async function quickchart(key) {\n",
              "      const quickchartButtonEl =\n",
              "        document.querySelector('#' + key + ' button');\n",
              "      quickchartButtonEl.disabled = true;  // To prevent multiple clicks.\n",
              "      quickchartButtonEl.classList.add('colab-df-spinner');\n",
              "      try {\n",
              "        const charts = await google.colab.kernel.invokeFunction(\n",
              "            'suggestCharts', [key], {});\n",
              "      } catch (error) {\n",
              "        console.error('Error during call to suggestCharts:', error);\n",
              "      }\n",
              "      quickchartButtonEl.classList.remove('colab-df-spinner');\n",
              "      quickchartButtonEl.classList.add('colab-df-quickchart-complete');\n",
              "    }\n",
              "    (() => {\n",
              "      let quickchartButtonEl =\n",
              "        document.querySelector('#df-fb148468-b1ee-41cc-9d21-10dc65252768 button');\n",
              "      quickchartButtonEl.style.display =\n",
              "        google.colab.kernel.accessAllowed ? 'block' : 'none';\n",
              "    })();\n",
              "  </script>\n",
              "</div>\n",
              "    </div>\n",
              "  </div>\n"
            ]
          },
          "metadata": {},
          "execution_count": 7
        }
      ]
    },
    {
      "cell_type": "code",
      "source": [
        "import numpy as np\n",
        "import pandas as pd\n",
        "import seaborn as sns\n",
        "import matplotlib.pyplot as plt\n",
        "\n",
        "# Bar plots for categorical features\n",
        "# Survival (0 = No; 1 = Yes)\n",
        "fig, axes = plt.subplots(nrows=2, ncols=2, figsize=(10, 8))\n",
        "\n",
        "sns.countplot(x='pclass', hue='survived', data=df_train, ax=axes[0, 0], palette='pastel')\n",
        "axes[0, 0].set_title('Survival Count by Passenger Class')\n",
        "\n",
        "sns.countplot(x='sex', hue='survived', data=df_train, ax=axes[0, 1], palette='pastel')\n",
        "axes[0, 1].set_title('Survival Count by Gender')\n",
        "\n",
        "sns.countplot(x='sibsp', hue='survived', data=df_train, ax=axes[1, 0], palette='pastel')\n",
        "axes[1, 0].set_title('Survival Count by Number of Siblings/Spouses Aboard')\n",
        "\n",
        "sns.countplot(x='parch', hue='survived', data=df_train, ax=axes[1, 1], palette='pastel')\n",
        "axes[1, 1].set_title('Survival Count by Number of Parents/Children Aboard')\n",
        "\n",
        "plt.tight_layout()\n",
        "plt.show()"
      ],
      "metadata": {
        "colab": {
          "base_uri": "https://localhost:8080/",
          "height": 807
        },
        "id": "yvLFXbPUpxGs",
        "outputId": "da68799d-b058-40b9-d642-addf806df973"
      },
      "execution_count": 8,
      "outputs": [
        {
          "output_type": "display_data",
          "data": {
            "text/plain": [
              "<Figure size 1000x800 with 4 Axes>"
            ],
            "image/png": "[encoded data removed]"
          },
          "metadata": {}
        }
      ]
    },
    {
      "cell_type": "code",
      "source": [
        "p_class = {1: 0, 2: 0, 3: 0}\n",
        "count_pclass_one = 0\n",
        "count_pclass_two = 0\n",
        "count_pclass_three = 0\n",
        "\n",
        "for index, row in df_train.iterrows():\n",
        "    c = row['pclass']\n",
        "    s = row['survived']\n",
        "\n",
        "    # Count the number of occurrences for each passenger class\n",
        "    if c == 1:\n",
        "        count_pclass_one += 1\n",
        "        if s == 1:\n",
        "            p_class[c] += 1\n",
        "    elif c == 2:\n",
        "        count_pclass_two += 1\n",
        "        if s == 1:\n",
        "            p_class[c] += 1\n",
        "    elif c == 3:\n",
        "        count_pclass_three += 1\n",
        "        if s == 1:\n",
        "            p_class[c] += 1\n",
        "\n",
        "\n",
        "# Calculate survival rate for each passenger class\n",
        "passenger_class_one = p_class[1] / count_pclass_one if count_pclass_one != 0 else 0\n",
        "passenger_class_two = p_class[2] / count_pclass_two if count_pclass_two != 0 else 0\n",
        "passenger_class_three = p_class[3] / count_pclass_three if count_pclass_three != 0 else 0\n",
        "\n",
        "print(f'Survival rate for Passenger Class 1: {passenger_class_one:.2%}')\n",
        "print(f'Survival rate for Passenger Class 2: {passenger_class_two:.2%}')\n",
        "print(f'Survival rate for Passenger Class 3: {passenger_class_three:.2%}')"
      ],
      "metadata": {
        "colab": {
          "base_uri": "https://localhost:8080/"
        },
        "id": "HwghWgzFDasw",
        "outputId": "2946d474-7465-4ce4-dee1-041607bd3c9a"
      },
      "execution_count": 9,
      "outputs": [
        {
          "output_type": "stream",
          "name": "stdout",
          "text": [
            "Survival rate for Passenger Class 1: 66.51%\n",
            "Survival rate for Passenger Class 2: 43.92%\n",
            "Survival rate for Passenger Class 3: 26.73%\n"
          ]
        }
      ]
    },
    {
      "cell_type": "code",
      "source": [
        "gender = {\"male\": 0, \"female\": 0}\n",
        "count_male = 0\n",
        "count_female = 0\n",
        "\n",
        "for index, row in df_train.iterrows():\n",
        "    c = row['sex']\n",
        "    s = row['survived']\n",
        "\n",
        "    # Count the number of occurrences for each gender\n",
        "    if c == \"male\":\n",
        "        count_male += 1\n",
        "        if s == 1:\n",
        "            gender[c] += 1\n",
        "    elif c == \"female\":\n",
        "        count_female += 1\n",
        "        if s == 1:\n",
        "            gender[c] += 1\n",
        "\n",
        "# Calculate survival rate for each passenger class\n",
        "male = gender[\"male\"] / count_male if count_male != 0 else 0\n",
        "female = gender[\"female\"] / count_female if count_female != 0 else 0\n",
        "\n",
        "print(f'Survival rate for Male: {male:.2%}')\n",
        "print(f'Survival rate for Female: {female:.2%}')"
      ],
      "metadata": {
        "colab": {
          "base_uri": "https://localhost:8080/"
        },
        "id": "S--u4RQV4-op",
        "outputId": "20322528-e286-413a-a91b-98a11ebd111f"
      },
      "execution_count": 10,
      "outputs": [
        {
          "output_type": "stream",
          "name": "stdout",
          "text": [
            "Survival rate for Male: 20.87%\n",
            "Survival rate for Female: 74.37%\n"
          ]
        }
      ]
    },
    {
      "cell_type": "markdown",
      "source": [
        "# Sigmoid Function"
      ],
      "metadata": {
        "id": "-umNm1KdAEuk"
      }
    },
    {
      "cell_type": "code",
      "source": [
        "def sigmoid(x):\n",
        "  return 1 / (1 + np.exp(-x))\n",
        "\n",
        "def gradsigmoid(x):\n",
        "  return sigmoid * (1 - sigmoid(x))"
      ],
      "metadata": {
        "id": "ioEoQPkHAGlV"
      },
      "execution_count": 11,
      "outputs": []
    },
    {
      "cell_type": "markdown",
      "source": [
        "# Logistic Regression\n",
        "\n",
        "Logistic regression uses this function:\n",
        "\n",
        "$$\\hat{\\textbf{y}} = \\sigma ( W \\textbf{x} + \\textbf{b} )$$\n",
        "\n",
        "The parameters that you need to optimize for are $W \\in \\mathbb{R}^{m \\times d}$, a matrix of size $m \\times d$ and $b \\in \\mathbb{R}^{m}$, a vector of size $m$."
      ],
      "metadata": {
        "id": "IAE7QCtFAa-p"
      }
    },
    {
      "cell_type": "code",
      "source": [
        "def logreg(W, x, b):\n",
        "  return sigmoid( (W @ x.T).T + b)"
      ],
      "metadata": {
        "id": "gUG2IcYMAaf7"
      },
      "execution_count": 12,
      "outputs": []
    },
    {
      "cell_type": "markdown",
      "source": [
        "## Cross-Entropy Cost Function\n",
        "\n",
        "Cross-Entropy Cost Function is defined as:\n",
        "\n",
        "$$L( \\{(\\textbf{x}, \\textbf{y}) \\}, W, \\textbf{b}) = - \\sum_i \\textbf{y}^{(i)T} \\log \\hat{\\textbf{y}}^{(i)} + (1 - \\textbf{y})^{(i) T} \\log (1 - \\hat{\\textbf{y}}^{(i)})$$\n",
        "\n",
        "Here,\n",
        "\n",
        "$$\\hat{\\textbf{y}} = \\sigma ( W \\textbf{x} + \\textbf{b} )$$\n",
        "\n",
        "which is the logistic regression previously defined.\n",
        "\n",
        "\n",
        "## Gradient of Cross-Entropy with respect to $W$\n",
        "\n",
        "$$\\nabla_W L =  \\sum_i \\left( \\sigma ( W \\textbf{x}^{(i)} + \\textbf{b} ) - \\textbf{y}^{(i)} \\right) \\textbf{x}^{(i) T}$$\n",
        "\n",
        "This should yield a matrix $\\mathbb{R}^{m \\times d}$, where $m$ is the length of a label and $d$ is the length of a feature vector. If $\\hat{\\textbf{y}}$ is the prediction, then\n",
        "\n",
        "$$\\nabla_W L =  \\sum_i \\left( \\hat{\\textbf{y}}^{(i)} - \\textbf{y}^{(i)} \\right) \\textbf{x}^{(i) T}$$\n",
        "\n",
        "## Gradient of Cross-Entropy with respect to $b$\n",
        "\n",
        "$$\\nabla_b L =  \\sum_i \\left( \\sigma ( W \\textbf{x}^{(i)} + \\textbf{b} ) - \\textbf{y}^{(i)} \\right)$$\n",
        "\n",
        "This should yield a matrix $\\mathbb{R}^{m}$, where $m$ is the length of a label. If $\\hat{\\textbf{y}}$ is the prediction, then\n",
        "\n",
        "$$\\nabla_b L =  \\sum_i \\left( \\hat{\\textbf{y}}^{(i)} - \\textbf{y}^{(i)} \\right)$$\n",
        "\n",
        "## Naming convention of dimensions\n",
        "\n",
        "* $N$ is the number of data samples (or batch size)\n",
        "* $m$ is the number of labels\n",
        "* $d$ is the number of features\n",
        "* $W$ is the weight matrix of size $m \\times d$\n",
        "* $b$ is the offset vector of size $m$"
      ],
      "metadata": {
        "id": "pgKlJnP3Avmv"
      }
    },
    {
      "cell_type": "code",
      "source": [
        "def costfxn(y, W, x, b):\n",
        "  '''\n",
        "  Calculate the overall binary cross-entropy cost function\n",
        "\n",
        "  Args:\n",
        "    * y: N x m matrix\n",
        "    * W: m x d matrix\n",
        "    * x: N x d matrix of data\n",
        "    * b: m offsite vector\n",
        "\n",
        "  Returns:\n",
        "    * A scalar cost value (summed over all data in the batch)\n",
        "  '''\n",
        "  yhat = logreg(W, x, b)\n",
        "  return -np.sum( y * np.log(yhat) + ( 1 - y ) * np.log(1 - yhat) )\n",
        "\n",
        "\n",
        "def gradW(y, W, x, b):\n",
        "  '''\n",
        "  Calculate the gradient w/r/t W\n",
        "\n",
        "  Args:\n",
        "    * y: N x m matrix\n",
        "    * W: m x d matrix\n",
        "    * x: N x d matrix of data\n",
        "    * b: m offsite vector\n",
        "\n",
        "  Returns:\n",
        "    * gradient of size m x d\n",
        "  '''\n",
        "  yhat = logreg(W, x, b)\n",
        "  return (np.expand_dims(yhat - y, 2) * np.expand_dims(x, 1)).sum(axis=0)\n",
        "\n",
        "def gradb(y, W, x, b):\n",
        "  '''\n",
        "  Calculate the gradient w/r/t b\n",
        "\n",
        "  Args:\n",
        "    * y: N x m matrix\n",
        "    * W: m x d matrix\n",
        "    * x: N x d matrix of data\n",
        "    * b: m offset vector\n",
        "\n",
        "  Returns:\n",
        "    * gradient of size N x m\n",
        "  '''\n",
        "  yhat = logreg(W, x, b)\n",
        "  return (yhat - y).sum(axis=0)"
      ],
      "metadata": {
        "id": "LQ39mARGAw9s"
      },
      "execution_count": 13,
      "outputs": []
    },
    {
      "cell_type": "markdown",
      "source": [
        "# 1. Logistic Regression and Accuracy"
      ],
      "metadata": {
        "id": "XwtYk2uA48re"
      }
    },
    {
      "cell_type": "code",
      "source": [
        "from sklearn.linear_model import LogisticRegression\n",
        "from sklearn.preprocessing import OneHotEncoder\n",
        "\n",
        "# Separate features and target variable\n",
        "X_train = df_train.drop(['survived'], axis=1)\n",
        "y_train = df_train['survived']\n",
        "\n",
        "X_test = df_test.drop(['survived'], axis=1)\n",
        "y_test = df_test['survived']\n",
        "\n",
        "# Customize this part based on the selected features you want to include\n",
        "X_train = X_train[['age', 'sex', 'pclass', 'sibsp', 'parch']]\n",
        "X_test = X_test[['age', 'sex', 'pclass', 'sibsp', 'parch']]\n",
        "\n",
        "# Replace categorical values with numerical labels if needed\n",
        "# For simplicity, assuming binary encoding for 'sex' (assuming it's binary)\n",
        "X_train['sex'] = X_train['sex'].map({'male': 0, 'female': 1})\n",
        "X_train['age'] = X_train['age'].fillna(X_train['age'].mean())\n",
        "\n",
        "X_test['sex'] = X_test['sex'].map({'male': 0, 'female': 1})\n",
        "X_test['age'] = X_test['age'].fillna(X_train['age'].mean())\n",
        "\n",
        "\n",
        "# One-hot encode 'sibsp' and 'parch'\n",
        "# sibsp_cols = ['sibsp_0', 'sibsp_1', 'sibsp_2', 'sibsp_3', 'sibsp_4', 'sibsp_5', 'sibsp_8']\n",
        "# parch_cols = ['parch_0', 'parch_1', 'parch_2', 'parch_3', 'parch_4', 'parch_5', 'parch_6', 'parch_9']\n",
        "# age_cols = ['age_0', 'age_10', 'age_20', 'age_30', 'age_40', 'age_50', 'age_60', 'age_70', 'age_80', 'age_90', 'age_100']\n",
        "# X_train = pd.get_dummies(X_train, columns=['sibsp', 'parch'], prefix=['sibsp', 'parch'])\n",
        "# X_test = pd.get_dummies(X_test, columns=['sibsp', 'parch'], prefix=['sibsp', 'parch'])\n",
        "\n",
        "# Define age bins and labels\n",
        "# age_bins = [0, 10, 20, 30, 40, 50, 60, 70, 80, 90, 100]\n",
        "# age_labels = [f'age_{i}' for i in range(0, 101, 10)]\n",
        "# print(age_labels[:-1])\n",
        "\n",
        "# # Apply one-hot encoding to 'age' column\n",
        "# X_train['age'] = pd.cut(X_train['age'], bins=age_bins, labels=age_labels[:-1], right=False)\n",
        "# X_test['age'] = pd.cut(X_test['age'], bins=age_bins, labels=age_labels[:-1], right=False)\n",
        "\n",
        "# # Perform one-hot encoding on 'age' column\n",
        "# X_train = pd.get_dummies(X_train, columns=['age'], prefix=['age'])\n",
        "# X_test = pd.get_dummies(X_test, columns=['age'], prefix=['age'])\n",
        "\n",
        "y_train = y_train[X_train.index]\n",
        "y_test = y_test[X_test.index]\n",
        "\n",
        "# normalize features\n",
        "def min_max_scale(feature):\n",
        "    min_val = feature.min()\n",
        "    max_val = feature.max()\n",
        "    scaled_feature = (feature - min_val) / (max_val - min_val)\n",
        "    return scaled_feature\n",
        "\n",
        "# Apply min-max scaling to each feature\n",
        "for column in X_train.columns:\n",
        "    X_train[column] = min_max_scale(X_train[column])\n",
        "\n",
        "for column in X_test.columns:\n",
        "    X_test[column] = min_max_scale(X_test[column])\n",
        "\n",
        "# Create a logistic regression model\n",
        "model = LogisticRegression(random_state=42)\n",
        "\n",
        "# Train the model\n",
        "model.fit(X_train, y_train)\n",
        "\n",
        "# Predictions using threshold of 0.5\n",
        "train_preds = model.predict(X_train)\n",
        "test_preds = model.predict(X_test)\n",
        "\n",
        "# Calculate accuracy\n",
        "train_accuracy = np.sum(train_preds == y_train) / len(y_train)\n",
        "test_accuracy = np.sum(test_preds == y_test) / len(y_test)\n",
        "\n",
        "# Print accuracies and cost\n",
        "print(f\"Training Accuracy with threshold of 0.5: {train_accuracy:.2%}\")\n",
        "print(f\"Test Accuracy with threshold of 0.5: {test_accuracy:.2%}\")"
      ],
      "metadata": {
        "colab": {
          "base_uri": "https://localhost:8080/"
        },
        "id": "S2SOxEAi5BPP",
        "outputId": "0b35e3df-c06c-4ef2-e431-a7cc12f43283"
      },
      "execution_count": 26,
      "outputs": [
        {
          "output_type": "stream",
          "name": "stdout",
          "text": [
            "Training Accuracy with threshold of 0.5: 78.00%\n",
            "Test Accuracy with threshold of 0.5: 80.14%\n"
          ]
        }
      ]
    },
    {
      "cell_type": "markdown",
      "source": [
        "# Optimize with Gradient Descent"
      ],
      "metadata": {
        "id": "HAK2hCiUCFNS"
      }
    },
    {
      "cell_type": "code",
      "source": [
        "# Parameters\n",
        "num_iters = 1000\n",
        "batch_size = 256\n",
        "learn_rate = 0.001\n",
        "random_range = np.random.default_rng(len(X_train))\n",
        "\n",
        "# Randomly initialize weights and bias\n",
        "num_features = X_train.shape[1]\n",
        "num_labels = 1\n",
        "\n",
        "W = np.random.randn(num_labels, num_features)\n",
        "b = np.random.randn(num_labels)\n",
        "\n",
        "# Iterate through num_iters\n",
        "L = []\n",
        "for i in range(num_iters):\n",
        "    # Take a random training sample\n",
        "    rand_sample = random_range.integers(low=0, high=len(X_train), size=batch_size)\n",
        "\n",
        "    # Features\n",
        "    xtrain_batch = X_train.iloc[rand_sample].values\n",
        "    ytrain_batch = y_train.iloc[rand_sample].values.reshape(-1, 1)\n",
        "\n",
        "    # Calculate cost function and the gradient\n",
        "    gradient_W = gradW(ytrain_batch, W, xtrain_batch, b)\n",
        "    gradient_b = gradb(ytrain_batch, W, xtrain_batch, b)\n",
        "\n",
        "    # Update weights and bias\n",
        "    W -= learn_rate * gradient_W\n",
        "    b -= learn_rate * gradient_b\n",
        "\n",
        "    # Calculate the cost function\n",
        "    cost = costfxn(ytrain_batch, W, xtrain_batch, b)\n",
        "    L.append(cost)\n",
        "\n",
        "yhat = logreg(W, xtrain_batch, b)\n",
        "# Plot the loss curve\n",
        "plt.plot(L)\n",
        "plt.xlabel('Iteration Number')\n",
        "plt.ylabel('Loss Value')\n",
        "plt.show()"
      ],
      "metadata": {
        "colab": {
          "base_uri": "https://localhost:8080/",
          "height": 449
        },
        "id": "4NmYVQw9CH44",
        "outputId": "658a072e-09aa-405a-ba86-5fe5bbbf7263"
      },
      "execution_count": 15,
      "outputs": [
        {
          "output_type": "display_data",
          "data": {
            "text/plain": [
              "<Figure size 640x480 with 1 Axes>"
            ],
            "image/png": "[encoded data removed]"
          },
          "metadata": {}
        }
      ]
    },
    {
      "cell_type": "markdown",
      "source": [
        "# 2. Using a toolbox (like Keras), try benchmarking your logistic regression and then adding a few more layers (i.e., a neural network). Diagram your neural network architecture and print out your overall test set accuracy. Make sure you do not train on any samples from your test set."
      ],
      "metadata": {
        "id": "kGk4HKCISCTK"
      }
    },
    {
      "cell_type": "code",
      "source": [
        "from tensorflow.keras.models import Sequential\n",
        "from tensorflow.keras.layers import Dense\n",
        "\n",
        "# Create a neural network model\n",
        "model = Sequential()\n",
        "\n",
        "# Add layers to the model\n",
        "model.add(Dense(units=64, activation='relu', input_dim=num_features))\n",
        "model.add(Dense(units=32, activation='relu'))\n",
        "model.add(Dense(units=1, activation='sigmoid'))\n",
        "\n",
        "# Compile the model\n",
        "model.compile(loss=\"binary_crossentropy\", optimizer=\"adam\", metrics=[\"accuracy\"])"
      ],
      "metadata": {
        "id": "vS4WGU59SG-z"
      },
      "execution_count": 16,
      "outputs": []
    },
    {
      "cell_type": "markdown",
      "source": [
        "# Diagram my neural network architecture"
      ],
      "metadata": {
        "id": "bfvq3k6kii0M"
      }
    },
    {
      "cell_type": "code",
      "source": [
        "model.summary()"
      ],
      "metadata": {
        "colab": {
          "base_uri": "https://localhost:8080/"
        },
        "id": "2psCmxQWfkS1",
        "outputId": "08ba0610-b7a4-4d21-9cbb-a07dd962b2e6"
      },
      "execution_count": 17,
      "outputs": [
        {
          "output_type": "stream",
          "name": "stdout",
          "text": [
            "Model: \"sequential\"\n",
            "_________________________________________________________________\n",
            " Layer (type)                Output Shape              Param #   \n",
            "=================================================================\n",
            " dense (Dense)               (None, 64)                384       \n",
            "                                                                 \n",
            " dense_1 (Dense)             (None, 32)                2080      \n",
            "                                                                 \n",
            " dense_2 (Dense)             (None, 1)                 33        \n",
            "                                                                 \n",
            "=================================================================\n",
            "Total params: 2497 (9.75 KB)\n",
            "Trainable params: 2497 (9.75 KB)\n",
            "Non-trainable params: 0 (0.00 Byte)\n",
            "_________________________________________________________________\n"
          ]
        }
      ]
    },
    {
      "cell_type": "code",
      "source": [
        "# Train the model\n",
        "model.fit(X_train, y_train, epochs=15, batch_size=256, validation_data=(X_test, y_test))"
      ],
      "metadata": {
        "colab": {
          "base_uri": "https://localhost:8080/"
        },
        "id": "3cOehPCVcRyM",
        "outputId": "3e196dc6-4a92-4c43-b25d-36aa53fe9e47"
      },
      "execution_count": 18,
      "outputs": [
        {
          "output_type": "stream",
          "name": "stdout",
          "text": [
            "Epoch 1/15\n",
            "4/4 [==============================] - 2s 115ms/step - loss: 0.6875 - accuracy: 0.6004 - val_loss: 0.6689 - val_accuracy: 0.6531\n",
            "Epoch 2/15\n",
            "4/4 [==============================] - 0s 21ms/step - loss: 0.6672 - accuracy: 0.6745 - val_loss: 0.6485 - val_accuracy: 0.7368\n",
            "Epoch 3/15\n",
            "4/4 [==============================] - 0s 16ms/step - loss: 0.6483 - accuracy: 0.7116 - val_loss: 0.6287 - val_accuracy: 0.7871\n",
            "Epoch 4/15\n",
            "4/4 [==============================] - 0s 22ms/step - loss: 0.6308 - accuracy: 0.7654 - val_loss: 0.6101 - val_accuracy: 0.7990\n",
            "Epoch 5/15\n",
            "4/4 [==============================] - 0s 34ms/step - loss: 0.6140 - accuracy: 0.7755 - val_loss: 0.5931 - val_accuracy: 0.7990\n",
            "Epoch 6/15\n",
            "4/4 [==============================] - 0s 31ms/step - loss: 0.5990 - accuracy: 0.7755 - val_loss: 0.5767 - val_accuracy: 0.7990\n",
            "Epoch 7/15\n",
            "4/4 [==============================] - 0s 17ms/step - loss: 0.5843 - accuracy: 0.7755 - val_loss: 0.5602 - val_accuracy: 0.7990\n",
            "Epoch 8/15\n",
            "4/4 [==============================] - 0s 11ms/step - loss: 0.5697 - accuracy: 0.7755 - val_loss: 0.5443 - val_accuracy: 0.7990\n",
            "Epoch 9/15\n",
            "4/4 [==============================] - 0s 18ms/step - loss: 0.5566 - accuracy: 0.7755 - val_loss: 0.5289 - val_accuracy: 0.7990\n",
            "Epoch 10/15\n",
            "4/4 [==============================] - 0s 16ms/step - loss: 0.5437 - accuracy: 0.7755 - val_loss: 0.5139 - val_accuracy: 0.7943\n",
            "Epoch 11/15\n",
            "4/4 [==============================] - 0s 12ms/step - loss: 0.5322 - accuracy: 0.7778 - val_loss: 0.5000 - val_accuracy: 0.7943\n",
            "Epoch 12/15\n",
            "4/4 [==============================] - 0s 22ms/step - loss: 0.5214 - accuracy: 0.7823 - val_loss: 0.4878 - val_accuracy: 0.8086\n",
            "Epoch 13/15\n",
            "4/4 [==============================] - 0s 23ms/step - loss: 0.5136 - accuracy: 0.7800 - val_loss: 0.4773 - val_accuracy: 0.8062\n",
            "Epoch 14/15\n",
            "4/4 [==============================] - 0s 26ms/step - loss: 0.5052 - accuracy: 0.7856 - val_loss: 0.4697 - val_accuracy: 0.7990\n",
            "Epoch 15/15\n",
            "4/4 [==============================] - 0s 16ms/step - loss: 0.4999 - accuracy: 0.7800 - val_loss: 0.4633 - val_accuracy: 0.7967\n"
          ]
        },
        {
          "output_type": "execute_result",
          "data": {
            "text/plain": [
              "<keras.src.callbacks.History at 0x7889bc22a110>"
            ]
          },
          "metadata": {},
          "execution_count": 18
        }
      ]
    },
    {
      "cell_type": "code",
      "source": [
        "# Evaluate the model on the test set\n",
        "test_loss, test_accuracy = model.evaluate(X_test, y_test, batch_size=256)\n",
        "print(f\"Test loss with Neural Network: {test_loss:.5%}\")\n",
        "print(f\"Test Accuracy with Neural Network: {test_accuracy:.2%}\")"
      ],
      "metadata": {
        "colab": {
          "base_uri": "https://localhost:8080/"
        },
        "id": "m-EqTKKydiTD",
        "outputId": "95d703e1-8998-463b-b424-c6148b3af9ff"
      },
      "execution_count": 19,
      "outputs": [
        {
          "output_type": "stream",
          "name": "stdout",
          "text": [
            "2/2 [==============================] - 0s 8ms/step - loss: 0.4633 - accuracy: 0.7967\n",
            "Test loss with Neural Network: 46.32587%\n",
            "Test Accuracy with Neural Network: 79.67%\n"
          ]
        }
      ]
    }
  ]
}