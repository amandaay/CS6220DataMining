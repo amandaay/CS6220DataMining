{
  "cells": [
    {
      "cell_type": "markdown",
      "metadata": {
        "id": "XVALReuF1vhr"
      },
      "source": [
        "# Pipeline Sketch\n",
        "\n",
        "## Please provide a description of how you used Spark to solve this problem.\n",
        "\n",
        "For every user, we have a list of first-degree friends. In all the first degree friends, they all have at least 1 mutual friend, which is the user. And in all direct friends, where the user is mapped to each friend, cannot be the friends that are recommended to them. Thus, should be excluded in the recommended friends.\n",
        "\n",
        "### For example,\n",
        "```\n",
        "User A: User B, User C, User D\n",
        "User B: User A, User D, User C\n",
        "```\n",
        "\n",
        "i.e. All of the following pairs have at least 1 mutual friend, which is User A, but we don't really care of this information so we can ignore. And we count that as 1, indicating a mutual friend.\n",
        "\n",
        "#### Mutual Friend List\n",
        "```\n",
        "  User 1, User 2\n",
        "((User B, User C), 1)\n",
        "((User B, User D), 1)\n",
        "((User C, User D), 1)\n",
        "((User A, User D), 1)\n",
        "((User A, User C), 1)\n",
        "((User D, User C), 1)\n",
        "```\n",
        "#### Direct Friend list\n",
        "```\n",
        "(User A, User B)\n",
        "(User A, User C)\n",
        "(User A, User D)\n",
        "(User B, User A)\n",
        "(User B, User D)\n",
        "(User B, User C)\n",
        "```\n",
        "Since User B, User C are direct friends C can't be recommended to B and vice versa. However, User D can be recommended to User B because B is not friends with D. And since we are using a list where there is mutual friends to recommend user 2 to user 1, we also need a list in reverse to see if we want to recommend user 1 to user 2.\n",
        "\n",
        "#### Updated Mutual Friend List for recommendation\n",
        "\n",
        "```\n",
        "  User 1, User 2\n",
        "((User B, User C), 1)\n",
        "((User B, User D), 1)\n",
        "((User C, User D), 1)\n",
        "((User A, User D), 1)\n",
        "((User A, User C), 1)\n",
        "((User D, User C), 2)\n",
        "((User C, User B), 1)\n",
        "((User D, User B), 1)\n",
        "((User D, User A), 1)\n",
        "((User C, User A), 1)\n",
        "((User C, User D), 1)\n",
        "```\n",
        "\n",
        "When there's more than one (User 1, User 2), we can accumulate them by adding them together. Then we can sort them in descending order of number of mutual friends, then the potential recommendation in ascending order(User2). Then format them as\n",
        "\n",
        "```\n",
        "(User 1, (User 2, mutual_count))...\n",
        "```\n",
        "Then, again map to:\n",
        "```\n",
        "(User 1, User 2)\n",
        "```\n",
        "Then group by User A to get the result\n",
        "At the end, map them according to User 1 and accumulate a list of recommendation by limiting to 10.\n",
        "```\n",
        "User\\t'recommended users'\n",
        "```\n",
        "\n",
        "\n"
      ]
    },
    {
      "cell_type": "code",
      "execution_count": 124,
      "metadata": {
        "id": "8Kb77j5jMDRC"
      },
      "outputs": [],
      "source": [
        "#@title Datapath for the file\n",
        "datapath = '/content/drive/MyDrive/6220/assignment/soc-LiveJournal1Adj.txt' #@param"
      ]
    },
    {
      "cell_type": "markdown",
      "metadata": {
        "id": "ZCLtJZy-Mpkd"
      },
      "source": [
        "# Install appropriate packages"
      ]
    },
    {
      "cell_type": "code",
      "execution_count": 125,
      "metadata": {
        "colab": {
          "base_uri": "https://localhost:8080/"
        },
        "id": "9ygRT02xMzQO",
        "outputId": "8454866a-0b07-409a-9c5f-0793f760a1b5"
      },
      "outputs": [
        {
          "name": "stdout",
          "output_type": "stream",
          "text": [
            "Requirement already satisfied: pyspark in /usr/local/lib/python3.10/dist-packages (3.5.0)\n",
            "Requirement already satisfied: py4j==0.10.9.7 in /usr/local/lib/python3.10/dist-packages (from pyspark) (0.10.9.7)\n",
            "openjdk-8-jdk-headless is already the newest version (8u382-ga-1~22.04.1).\n",
            "0 upgraded, 0 newly installed, 0 to remove and 18 not upgraded.\n"
          ]
        }
      ],
      "source": [
        "#@title Install all appropriate packages\n",
        "\n",
        "!pip install pyspark\n",
        "!pip install -U -q PyDrive\n",
        "!apt install openjdk-8-jdk-headless -qq"
      ]
    },
    {
      "cell_type": "markdown",
      "metadata": {
        "id": "PvvGGY27NE8s"
      },
      "source": [
        "# Import and create Spark Context"
      ]
    },
    {
      "cell_type": "code",
      "execution_count": 126,
      "metadata": {
        "id": "5LGsxRJsNAaK"
      },
      "outputs": [],
      "source": [
        "#@title Import and create Spark Context\n",
        "\n",
        "# import necessary libraries\n",
        "import itertools\n",
        "\n",
        "import pyspark\n",
        "from pyspark.sql import *\n",
        "from pyspark.sql.functions import *\n",
        "from pyspark import SparkContext, SparkConf\n",
        "import os\n",
        "os.environ[\"JAVA_HOME\"] = \"/usr/lib/jvm/java-8-openjdk-amd64\"\n",
        "\n",
        "# create the session\n",
        "conf = SparkConf().set(\"spark.ui.port\", \"4050\")\n",
        "\n",
        "# create the context\n",
        "sc = pyspark.SparkContext(conf=conf)\n",
        "spark = SparkSession.builder.getOrCreate()"
      ]
    },
    {
      "cell_type": "code",
      "execution_count": 127,
      "metadata": {
        "colab": {
          "base_uri": "https://localhost:8080/"
        },
        "id": "vu9TCfyGdQ7T",
        "outputId": "46a439f4-4efe-411d-a6bc-8d6a34204588"
      },
      "outputs": [
        {
          "name": "stdout",
          "output_type": "stream",
          "text": [
            "Drive already mounted at /content/drive; to attempt to forcibly remount, call drive.mount(\"/content/drive\", force_remount=True).\n"
          ]
        }
      ],
      "source": [
        "# mount drive\n",
        "from google.colab import drive\n",
        "drive.mount('/content/drive')"
      ]
    },
    {
      "cell_type": "markdown",
      "metadata": {
        "id": "7ggldkn9df1L"
      },
      "source": [
        "# Read the data"
      ]
    },
    {
      "cell_type": "markdown",
      "metadata": {
        "id": "0rQLJzUS-aS0"
      },
      "source": [
        "## Reads the data and splits the data between the tabs\n",
        "### The format:\n",
        "\n",
        "```\n",
        "(<User1>, <Friend1,Friend2,..>), (<User2>, <Friendsss...>)\n",
        "```\n",
        "\n"
      ]
    },
    {
      "cell_type": "markdown",
      "metadata": {
        "id": "6-kn8WU70Zvh"
      },
      "source": [
        "### For testing purpose, I took a sample size starting with 20 to 1000."
      ]
    },
    {
      "cell_type": "code",
      "execution_count": 128,
      "metadata": {
        "id": "VAUwOZmSjoQs"
      },
      "outputs": [],
      "source": [
        "# limited_lines = sc.textFile(datapath, 1).take(100)\n",
        "# lines = sc.parallelize(limited_lines)\n",
        "# friendship = lines.map(lambda line: line.split()).zipWithIndex().map(lambda x: x[0]).map(lambda x: (x[0], x[1].split(',') if x and len(x) > 1 else ''))\n",
        "# friendship.collect()"
      ]
    },
    {
      "cell_type": "code",
      "execution_count": 129,
      "metadata": {
        "id": "mtKcpmMhdjSR"
      },
      "outputs": [],
      "source": [
        "lines = sc.textFile(datapath, 1)\n",
        "friendship = lines.map(lambda line: line.split()).zipWithIndex().map(lambda x: x[0]).map(lambda x: (x[0], x[1].split(',') if x and len(x) > 1 else ''))"
      ]
    },
    {
      "cell_type": "markdown",
      "metadata": {
        "id": "2V-XdK7TPKhD"
      },
      "source": [
        "## Helper function to find all the permutation of those with a mutual friend"
      ]
    },
    {
      "cell_type": "code",
      "execution_count": 130,
      "metadata": {
        "id": "odck-BcXjtez"
      },
      "outputs": [],
      "source": [
        "def mutual_frd(frd_list):\n",
        "  res = []\n",
        "  for i in range(len(frd_list) - 1):\n",
        "    for j in range(i + 1, len(frd_list)):\n",
        "      res.append(((frd_list[i], frd_list[j]), 1))\n",
        "      res.append(((frd_list[j], frd_list[i]), 1))\n",
        "  return res"
      ]
    },
    {
      "cell_type": "markdown",
      "metadata": {
        "id": "mSGnJpziPgma"
      },
      "source": [
        "## List of the direct friends"
      ]
    },
    {
      "cell_type": "code",
      "execution_count": 131,
      "metadata": {
        "id": "iMVIULVEpJsX"
      },
      "outputs": [],
      "source": [
        "direct_frd = friendship.flatMap(lambda x: [(x[0], x[1][i]) for i in range(len(x[1]))]).collect()\n",
        "direct_frd = set(direct_frd)"
      ]
    },
    {
      "cell_type": "markdown",
      "metadata": {
        "id": "yXWeZJZmPE93"
      },
      "source": [
        "## Apply the mutual friend and direct friend as helper functions.\n",
        "### For those with mutual friends, we make sure that they are also not direct friends (by filter) and count them (reduceByKey)."
      ]
    },
    {
      "cell_type": "code",
      "execution_count": 132,
      "metadata": {
        "id": "fxM-sv2tksSy"
      },
      "outputs": [],
      "source": [
        "mutual_frd_list = friendship.flatMap(lambda x: mutual_frd(x[1])).filter(lambda x: x[0] not in direct_frd).reduceByKey(lambda x, y: x + y)"
      ]
    },
    {
      "cell_type": "markdown",
      "metadata": {
        "id": "jCBO_7pr3jq3"
      },
      "source": [
        "## Format mutual friend list in a way\n",
        "\n",
        "\n",
        "\n",
        "```\n",
        "((key), (value, mutual_count)),...\n",
        "```\n",
        "## Then, subsequently, sort the number of mutual friends in a descending order of the number of mutual friends, then\n",
        "\n",
        "```\n",
        "user (key), potential recommendation (value)\n",
        "```\n"
      ]
    },
    {
      "cell_type": "code",
      "execution_count": 133,
      "metadata": {
        "id": "h4GBA_RY3iWI"
      },
      "outputs": [],
      "source": [
        "format_mutual_list = mutual_frd_list.map(lambda x: (int(x[0][0]), (int(x[0][1]), x[1]))).sortBy(lambda x: (-x[1][1], x[1][0])).map(lambda x: (x[0], x[1][0]))"
      ]
    },
    {
      "cell_type": "markdown",
      "metadata": {
        "id": "qKWdCz4ROCS1"
      },
      "source": [
        "## Generate a list of recommended friends"
      ]
    },
    {
      "cell_type": "code",
      "execution_count": 134,
      "metadata": {
        "id": "Zu4vHXlmBy-e"
      },
      "outputs": [],
      "source": [
        "recommendation = format_mutual_list.groupByKey().mapValues(lambda x: list(x)[:10])"
      ]
    },
    {
      "cell_type": "markdown",
      "metadata": {
        "id": "OJW0nfuo1gqL"
      },
      "source": [
        "## Format output as required\n",
        "\n",
        "```\n",
        "<User><Tab><Recommendation>...\n",
        "```"
      ]
    },
    {
      "cell_type": "code",
      "execution_count": 135,
      "metadata": {
        "id": "uJIgU7Q_LJ25"
      },
      "outputs": [],
      "source": [
        "check = {11, 924, 8941, 8942, 9019, 9020, 9021, 9022, 9990, 9992, 9993}\n",
        "res = recommendation.filter(lambda entry: entry[0] in check).map(lambda entry: str(entry[0]) + '\\t' + ','.join(str(elt) for elt in entry[1]))\n",
        "res_list = res.collect()"
      ]
    },
    {
      "cell_type": "code",
      "execution_count": 136,
      "metadata": {
        "colab": {
          "base_uri": "https://localhost:8080/"
        },
        "id": "XGTukH3H2NZa",
        "outputId": "aa2dd1e3-65aa-448b-e078-d332804172bb"
      },
      "outputs": [
        {
          "name": "stdout",
          "output_type": "stream",
          "text": [
            "Recommendations have been written to /content/drive/MyDrive/6220/assignment/recommendations.txt\n"
          ]
        }
      ],
      "source": [
        "# Specify the output file path\n",
        "output_file_path = '/content/drive/MyDrive/6220/assignment/output.txt'\n",
        "\n",
        "# Write the formatted recommendations to the output file\n",
        "with open(output_file_path, 'w') as output_file:\n",
        "    for item in res_list:\n",
        "        output_file.write(item + '\\n')\n",
        "\n",
        "print(f\"Recommendations have been written to {output_file_path}\")"
      ]
    },
    {
      "cell_type": "markdown",
      "metadata": {
        "id": "-bcjxIPm1OBD"
      },
      "source": [
        "## Stop SparkContext after completion"
      ]
    },
    {
      "cell_type": "code",
      "execution_count": 137,
      "metadata": {
        "id": "H3B6ZYe01R1f"
      },
      "outputs": [],
      "source": [
        "sc.stop()"
      ]
    }
  ],
  "metadata": {
    "colab": {
      "provenance": []
    },
    "kernelspec": {
      "display_name": "Python 3",
      "name": "python3"
    },
    "language_info": {
      "name": "python"
    }
  },
  "nbformat": 4,
  "nbformat_minor": 0
}
